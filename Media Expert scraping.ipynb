{
 "cells": [
  {
   "cell_type": "code",
   "execution_count": 1,
   "id": "218f2229",
   "metadata": {},
   "outputs": [],
   "source": [
    "from bs4 import BeautifulSoup as bs\n",
    "import requests\n",
    "from csv import writer"
   ]
  },
  {
   "cell_type": "code",
   "execution_count": 2,
   "id": "292ece88",
   "metadata": {},
   "outputs": [],
   "source": [
    "def get_data(url):\n",
    "    headers = {'user-agent': 'Mozilla/5.0'}\n",
    "    page = requests.get(url, headers=headers)\n",
    "    soup = bs(page.content, 'html.parser')\n",
    "    return soup"
   ]
  },
  {
   "cell_type": "code",
   "execution_count": 3,
   "id": "42de934d",
   "metadata": {},
   "outputs": [],
   "source": [
    "def get_next_page(soup):\n",
    "    container = soup.find(\"div\", class_=\"pagination spark-pagination-href\")\n",
    "    try: url = \"https://www.mediaexpert.pl\" + str(container.find_all('a', {'class': 'spark-button is-icon is-simple is-default icon-left'})[1]['href'])\n",
    "    except Exception as e:\n",
    "        url = \"https://www.mediaexpert.pl\" + str(container.find('a', {'class': 'spark-button is-icon is-simple is-default icon-left'})['href'])\n",
    "    return url"
   ]
  },
  {
   "cell_type": "code",
   "execution_count": 4,
   "id": "b74beb54",
   "metadata": {},
   "outputs": [],
   "source": [
    "def get_all_pages(url):\n",
    "    pages = []\n",
    "    while True:\n",
    "        pages.append(url)\n",
    "        soup = get_data(url)\n",
    "        if not soup.find(\"i\", class_=\"icon icon-arrow10-right\"):\n",
    "            break\n",
    "        url = get_next_page(soup)\n",
    "    return pages"
   ]
  },
  {
   "cell_type": "code",
   "execution_count": 5,
   "id": "a9601738",
   "metadata": {},
   "outputs": [],
   "source": [
    "pages = get_all_pages(\"https://www.mediaexpert.pl/komputery-i-tablety/laptopy-i-ultrabooki/laptopy?limit=50&page=1\")[0:20]"
   ]
  },
  {
   "cell_type": "code",
   "execution_count": 6,
   "id": "d367c1ea",
   "metadata": {},
   "outputs": [],
   "source": [
    "def get_all_params(pages):\n",
    "    params = []\n",
    "    for page in pages:\n",
    "        soup = get_data(page)\n",
    "        boxes = soup.find_all(\"div\", class_ = \"column-right\")\n",
    "        for box in boxes:\n",
    "            screen_params = box.find_all(\"span\", \"attribute-values is-regular\")[0].text.replace('\\n', \"\").strip(\"      \").split(\",\")\n",
    "            size = screen_params[0]\n",
    "            resolution = screen_params[1]\n",
    "            refresh_rate = screen_params[-1]\n",
    "            processor = str(box.find_all(\"span\", class_ = \"attribute-values is-regular\")[1].text.replace('\\n', \"\").strip(\"      \"))\n",
    "            ram = str(box.find_all(\"span\", class_ = \"attribute-values is-regular\")[2].text.replace('\\n', \"\").strip(\"      \"))\n",
    "            disc = str(box.find_all(\"span\", class_ = \"attribute-values is-regular\")[3].text.replace('\\n', \"\").strip(\"      \"))\n",
    "            graphic_card = str(box.find_all(\"span\", class_ = \"attribute-values is-regular\")[4].text.replace('\\n', \"\").strip(\"      \"))\n",
    "            params.extend([size, resolution, refresh_rate, processor, ram , disc, graphic_card])\n",
    "    return params\n",
    "    \n",
    "    "
   ]
  },
  {
   "cell_type": "code",
   "execution_count": 7,
   "id": "7e1e7d8d",
   "metadata": {},
   "outputs": [],
   "source": [
    "def get_all_prices(pages):\n",
    "    laptop_prices = []\n",
    "    i = 0\n",
    "    for page in pages:\n",
    "        soup = get_data(page)\n",
    "        all_prices = soup.find_all(\"div\", class_ = \"prices\")\n",
    "        for single_price in all_prices:\n",
    "            pr = single_price.find_all(\"span\", class_ = \"whole\")\n",
    "            for p in pr:\n",
    "                l = []\n",
    "                l.append(int(p.text.encode('ascii', 'ignore').decode(\"utf-8\")))\n",
    "            price = max(l)\n",
    "            laptop_prices.append(price)\n",
    "            i = i + 1\n",
    "            if i%10 == 0:\n",
    "                break\n",
    "    return laptop_prices   \n"
   ]
  },
  {
   "cell_type": "code",
   "execution_count": 10,
   "id": "2eccdc90",
   "metadata": {},
   "outputs": [],
   "source": [
    "def save_to_csv(pages):\n",
    "    with open('Media Expert laptop prices.csv', 'w', encoding='utf8', newline='') as f:\n",
    "        thewriter = writer(f)\n",
    "        header = ['Size', 'Resolution', 'Refresh rate', 'Processor', \"RAM\", \"Disc\", \"Graphics card\", \"Price in zl\"]\n",
    "        thewriter.writerow(header)\n",
    "        for page in pages:\n",
    "            soup = get_data(page)\n",
    "            boxes = soup.find_all(\"div\", class_ = \"column-right\")\n",
    "            all_prices = soup.find_all(\"div\", class_ = \"prices\")\n",
    "            for box, single_price in zip (boxes, all_prices):\n",
    "                screen_params = box.find_all(\"span\", \"attribute-values is-regular\")[0].text.replace('\\n', \"\").strip(\"      \").split(\",\")\n",
    "                size = screen_params[0]\n",
    "                resolution = screen_params[1]\n",
    "                refresh_rate = screen_params[-1]\n",
    "                processor = str(box.find_all(\"span\", class_ = \"attribute-values is-regular\")[1].text.replace('\\n', \"\").strip(\"      \"))\n",
    "                ram = str(box.find_all(\"span\", class_ = \"attribute-values is-regular\")[2].text.replace('\\n', \"\").strip(\"      \"))\n",
    "                disc = str(box.find_all(\"span\", class_ = \"attribute-values is-regular\")[3].text.replace('\\n', \"\").strip(\"      \"))\n",
    "                graphic_card = str(box.find_all(\"span\", class_ = \"attribute-values is-regular\")[4].text.replace('\\n', \"\").strip(\"      \"))      \n",
    "                pr = single_price.find_all(\"span\", class_ = \"whole\")\n",
    "                for p in pr:\n",
    "                    l = []\n",
    "                    l.append(int(p.text.encode('ascii', 'ignore').decode(\"utf-8\")))\n",
    "                price = max(l)\n",
    "                thewriter.writerow([size, resolution, refresh_rate, processor, ram, disc, graphic_card, price])\n",
    "\n",
    "    f.close()"
   ]
  },
  {
   "cell_type": "code",
   "execution_count": 11,
   "id": "0e5e9c6b",
   "metadata": {},
   "outputs": [],
   "source": [
    "save_to_csv(pages)"
   ]
  },
  {
   "cell_type": "code",
   "execution_count": null,
   "id": "a720994d",
   "metadata": {},
   "outputs": [],
   "source": []
  }
 ],
 "metadata": {
  "kernelspec": {
   "display_name": "Python 3 (ipykernel)",
   "language": "python",
   "name": "python3"
  },
  "language_info": {
   "codemirror_mode": {
    "name": "ipython",
    "version": 3
   },
   "file_extension": ".py",
   "mimetype": "text/x-python",
   "name": "python",
   "nbconvert_exporter": "python",
   "pygments_lexer": "ipython3",
   "version": "3.9.12"
  }
 },
 "nbformat": 4,
 "nbformat_minor": 5
}
