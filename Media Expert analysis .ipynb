{
 "cells": [
  {
   "cell_type": "code",
   "execution_count": 1,
   "id": "74a6452e",
   "metadata": {},
   "outputs": [],
   "source": [
    "# Importing all necessary libraries\n",
    "import pandas as pd\n",
    "import matplotlib.pyplot as plt\n",
    "plt.rcParams[\"figure.figsize\"] = (10,10)\n",
    "from sklearn.compose import ColumnTransformer\n",
    "from sklearn.pipeline import Pipeline\n",
    "from sklearn.preprocessing import OneHotEncoder, MinMaxScaler\n",
    "from sklearn.linear_model import LinearRegression\n",
    "from sklearn.model_selection import train_test_split, GridSearchCV\n",
    "from sklearn.ensemble import RandomForestRegressor"
   ]
  },
  {
   "cell_type": "code",
   "execution_count": 2,
   "id": "c91acba1",
   "metadata": {},
   "outputs": [
    {
     "data": {
      "text/html": [
       "<div>\n",
       "<style scoped>\n",
       "    .dataframe tbody tr th:only-of-type {\n",
       "        vertical-align: middle;\n",
       "    }\n",
       "\n",
       "    .dataframe tbody tr th {\n",
       "        vertical-align: top;\n",
       "    }\n",
       "\n",
       "    .dataframe thead th {\n",
       "        text-align: right;\n",
       "    }\n",
       "</style>\n",
       "<table border=\"1\" class=\"dataframe\">\n",
       "  <thead>\n",
       "    <tr style=\"text-align: right;\">\n",
       "      <th></th>\n",
       "      <th>Size</th>\n",
       "      <th>Resolution</th>\n",
       "      <th>Refresh rate</th>\n",
       "      <th>Processor</th>\n",
       "      <th>RAM</th>\n",
       "      <th>Disc</th>\n",
       "      <th>Graphics card</th>\n",
       "      <th>Price in zl</th>\n",
       "    </tr>\n",
       "  </thead>\n",
       "  <tbody>\n",
       "    <tr>\n",
       "      <th>0</th>\n",
       "      <td>15.6\"</td>\n",
       "      <td>1920 x 1080px</td>\n",
       "      <td>120Hz</td>\n",
       "      <td>Intel Core i7-11370H</td>\n",
       "      <td>8</td>\n",
       "      <td>512 GB SSD</td>\n",
       "      <td>NVIDIA GeForce GTX 1650</td>\n",
       "      <td>3599</td>\n",
       "    </tr>\n",
       "    <tr>\n",
       "      <th>1</th>\n",
       "      <td>16.1\"</td>\n",
       "      <td>1920 x 1080px</td>\n",
       "      <td>60Hz</td>\n",
       "      <td>AMD Ryzen 5 5600H</td>\n",
       "      <td>8</td>\n",
       "      <td>512 GB SSD</td>\n",
       "      <td>NVIDIA GeForce GTX 1650</td>\n",
       "      <td>3799</td>\n",
       "    </tr>\n",
       "    <tr>\n",
       "      <th>2</th>\n",
       "      <td>15.6\"</td>\n",
       "      <td>1920 x 1080px</td>\n",
       "      <td>240Hz</td>\n",
       "      <td>AMD Ryzen 9 5900HX</td>\n",
       "      <td>16</td>\n",
       "      <td>1000 GB SSD</td>\n",
       "      <td>AMD Radeon RX 6700M</td>\n",
       "      <td>7499</td>\n",
       "    </tr>\n",
       "    <tr>\n",
       "      <th>3</th>\n",
       "      <td>15.6\"</td>\n",
       "      <td>1920 x 1080px</td>\n",
       "      <td>144Hz</td>\n",
       "      <td>AMD Ryzen 7 6800H</td>\n",
       "      <td>16</td>\n",
       "      <td>512 GB SSD</td>\n",
       "      <td>NVIDIA GeForce RTX 3050 Ti</td>\n",
       "      <td>6199</td>\n",
       "    </tr>\n",
       "    <tr>\n",
       "      <th>4</th>\n",
       "      <td>16.1\"</td>\n",
       "      <td>1920 x 1080px</td>\n",
       "      <td>144Hz</td>\n",
       "      <td>Intel Core i7-11800H</td>\n",
       "      <td>8</td>\n",
       "      <td>512 GB SSD</td>\n",
       "      <td>NVIDIA GeForce RTX 3060</td>\n",
       "      <td>5999</td>\n",
       "    </tr>\n",
       "  </tbody>\n",
       "</table>\n",
       "</div>"
      ],
      "text/plain": [
       "    Size      Resolution Refresh rate             Processor RAM         Disc  \\\n",
       "0  15.6\"   1920 x 1080px        120Hz  Intel Core i7-11370H   8   512 GB SSD   \n",
       "1  16.1\"   1920 x 1080px         60Hz     AMD Ryzen 5 5600H   8   512 GB SSD   \n",
       "2  15.6\"   1920 x 1080px        240Hz    AMD Ryzen 9 5900HX  16  1000 GB SSD   \n",
       "3  15.6\"   1920 x 1080px        144Hz     AMD Ryzen 7 6800H  16   512 GB SSD   \n",
       "4  16.1\"   1920 x 1080px        144Hz  Intel Core i7-11800H   8   512 GB SSD   \n",
       "\n",
       "                Graphics card  Price in zl  \n",
       "0     NVIDIA GeForce GTX 1650         3599  \n",
       "1     NVIDIA GeForce GTX 1650         3799  \n",
       "2         AMD Radeon RX 6700M         7499  \n",
       "3  NVIDIA GeForce RTX 3050 Ti         6199  \n",
       "4     NVIDIA GeForce RTX 3060         5999  "
      ]
     },
     "execution_count": 2,
     "metadata": {},
     "output_type": "execute_result"
    }
   ],
   "source": [
    "# Importing the csv file\n",
    "df = pd.read_csv(\"Media Expert laptop prices.csv\")\n",
    "df.head()"
   ]
  },
  {
   "cell_type": "code",
   "execution_count": 3,
   "id": "c76cc964",
   "metadata": {},
   "outputs": [
    {
     "data": {
      "text/plain": [
       "(1000, 8)"
      ]
     },
     "execution_count": 3,
     "metadata": {},
     "output_type": "execute_result"
    }
   ],
   "source": [
    "# Checking the size of the DataFrame\n",
    "df.shape"
   ]
  },
  {
   "cell_type": "code",
   "execution_count": 4,
   "id": "de20b462",
   "metadata": {},
   "outputs": [
    {
     "data": {
      "text/plain": [
       "15.6\"            477\n",
       "14\"              140\n",
       "17.3\"            101\n",
       "16.1\"             74\n",
       "13.3\"             59\n",
       "16\"               47\n",
       "13.4\"             22\n",
       "13.6\"             12\n",
       "16.2\"             10\n",
       "14.2\"             10\n",
       "13.5\"              9\n",
       "11.6\"              8\n",
       "17\"                7\n",
       "13\"                7\n",
       "14.1\"              4\n",
       "10.5\"              3\n",
       "10.1\"              2\n",
       "12.3\"              2\n",
       "12.6\"              1\n",
       "12.45\"             1\n",
       "14.5\"              1\n",
       "15\"                1\n",
       "1920 x 1080px      1\n",
       "13.9\"              1\n",
       "Name: Size, dtype: int64"
      ]
     },
     "execution_count": 4,
     "metadata": {},
     "output_type": "execute_result"
    }
   ],
   "source": [
    "# Searching for non-matching values\n",
    "df.Size.value_counts(dropna = False)"
   ]
  },
  {
   "cell_type": "code",
   "execution_count": 5,
   "id": "0eb4da53",
   "metadata": {},
   "outputs": [
    {
     "data": {
      "text/html": [
       "<div>\n",
       "<style scoped>\n",
       "    .dataframe tbody tr th:only-of-type {\n",
       "        vertical-align: middle;\n",
       "    }\n",
       "\n",
       "    .dataframe tbody tr th {\n",
       "        vertical-align: top;\n",
       "    }\n",
       "\n",
       "    .dataframe thead th {\n",
       "        text-align: right;\n",
       "    }\n",
       "</style>\n",
       "<table border=\"1\" class=\"dataframe\">\n",
       "  <thead>\n",
       "    <tr style=\"text-align: right;\">\n",
       "      <th></th>\n",
       "      <th>Size</th>\n",
       "      <th>Resolution</th>\n",
       "      <th>Refresh rate</th>\n",
       "      <th>Processor</th>\n",
       "      <th>RAM</th>\n",
       "      <th>Disc</th>\n",
       "      <th>Graphics card</th>\n",
       "      <th>Price in zl</th>\n",
       "    </tr>\n",
       "  </thead>\n",
       "  <tbody>\n",
       "    <tr>\n",
       "      <th>655</th>\n",
       "      <td>1920 x 1080px</td>\n",
       "      <td>60Hz</td>\n",
       "      <td>60Hz</td>\n",
       "      <td>Intel Core i7-11800H</td>\n",
       "      <td>16</td>\n",
       "      <td>1000 GB SSD</td>\n",
       "      <td>NVIDIA GeForce RTX 3050 Ti</td>\n",
       "      <td>8369</td>\n",
       "    </tr>\n",
       "  </tbody>\n",
       "</table>\n",
       "</div>"
      ],
      "text/plain": [
       "              Size Resolution Refresh rate             Processor RAM  \\\n",
       "655  1920 x 1080px       60Hz         60Hz  Intel Core i7-11800H  16   \n",
       "\n",
       "            Disc               Graphics card  Price in zl  \n",
       "655  1000 GB SSD  NVIDIA GeForce RTX 3050 Ti         8369  "
      ]
     },
     "execution_count": 5,
     "metadata": {},
     "output_type": "execute_result"
    }
   ],
   "source": [
    "df[df.Size == \"1920 x 1080px\"]"
   ]
  },
  {
   "cell_type": "code",
   "execution_count": 6,
   "id": "012089a0",
   "metadata": {},
   "outputs": [],
   "source": [
    "# Removing the faulty row\n",
    "df1 = df.drop(655)"
   ]
  },
  {
   "cell_type": "code",
   "execution_count": 7,
   "id": "ceb4459a",
   "metadata": {},
   "outputs": [
    {
     "data": {
      "text/plain": [
       "0      15.6\n",
       "1      16.1\n",
       "2      15.6\n",
       "3      15.6\n",
       "4      16.1\n",
       "       ... \n",
       "995    15.6\n",
       "996    15.6\n",
       "997    15.6\n",
       "998    14.0\n",
       "999    15.6\n",
       "Name: Size, Length: 999, dtype: float64"
      ]
     },
     "execution_count": 7,
     "metadata": {},
     "output_type": "execute_result"
    }
   ],
   "source": [
    "# Converting to float\n",
    "df1.Size = df1.Size.apply(lambda x: float(x.strip('\"')))\n",
    "df1.Size"
   ]
  },
  {
   "cell_type": "code",
   "execution_count": 37,
   "id": "9d0c428f",
   "metadata": {},
   "outputs": [
    {
     "data": {
      "image/png": "[encoded data removed]",
      "text/plain": [
       "<Figure size 720x720 with 1 Axes>"
      ]
     },
     "metadata": {
      "needs_background": "light"
     },
     "output_type": "display_data"
    }
   ],
   "source": [
    "# Plotting the relationship between the price and the size of a laptop\n",
    "plt.scatter(df1[\"Size\"], df1[\"Price in zl\"], label = \"Size\", color=\"blue\")\n",
    "plt.legend()\n",
    "plt.show()"
   ]
  },
  {
   "cell_type": "code",
   "execution_count": 8,
   "id": "97947d0d",
   "metadata": {},
   "outputs": [
    {
     "data": {
      "text/plain": [
       " 1920 x 1080px    701\n",
       " 2560 x 1600px     83\n",
       " 2560 x 1440px     59\n",
       " 1920 x 1200px     33\n",
       " 1366 x 768px      23\n",
       " 2560 x 1664px     12\n",
       " 3840 x 2160px     11\n",
       " 3456 x 2234px     10\n",
       " 2256 x 1504px      8\n",
       " 1600 x 900px       8\n",
       " 3024 x 1964px      7\n",
       " 2880 x 1920px      7\n",
       " 3840 x 2400px      6\n",
       " 2240 x 1400px      4\n",
       " 2520 x 1680px      3\n",
       " 1920 x 1280px      3\n",
       " 2880 x 1800px      3\n",
       " 2160 x 1440px      2\n",
       " 1280 x 800px       2\n",
       " 2160 x 1140px      2\n",
       " 3000 x 2000px      2\n",
       " 2736 x 1824px      2\n",
       " 3072 x 1920px      2\n",
       " 2880 x 1620px      1\n",
       " 2496 x 1664px      1\n",
       " 3456 x 2160px      1\n",
       " 3120 x 2080px      1\n",
       " 1536 x 1024px      1\n",
       " 1440 x 900px       1\n",
       "Name: Resolution, dtype: int64"
      ]
     },
     "execution_count": 8,
     "metadata": {},
     "output_type": "execute_result"
    }
   ],
   "source": [
    "# Searching for non-matching values\n",
    "df1.Resolution.value_counts(dropna = False)"
   ]
  },
  {
   "cell_type": "code",
   "execution_count": 9,
   "id": "32a97f4d",
   "metadata": {},
   "outputs": [],
   "source": [
    "# Removing rare values\n",
    "counts = df1.Resolution.value_counts()\n",
    "resolutions = df1[df1.Resolution.isin(counts[counts < 10].index)]\n",
    "df1 = df1.drop(index=resolutions.index)"
   ]
  },
  {
   "cell_type": "code",
   "execution_count": 10,
   "id": "2e136761",
   "metadata": {},
   "outputs": [
    {
     "data": {
      "text/plain": [
       " 60Hz             409\n",
       " 144Hz            212\n",
       " 165Hz            101\n",
       " 120Hz             87\n",
       " 1920 x 1080px     34\n",
       " 240Hz             28\n",
       " 2560 x 1600px     25\n",
       " 2560 x 1664px      9\n",
       " 360Hz              8\n",
       " 1366 x 768px       6\n",
       " Dotykowy           6\n",
       " 300Hz              5\n",
       " 1920 x 1200px      2\n",
       "Name: Refresh rate, dtype: int64"
      ]
     },
     "execution_count": 10,
     "metadata": {},
     "output_type": "execute_result"
    }
   ],
   "source": [
    "# Searching for non-matching values\n",
    "df1['Refresh rate'].value_counts(dropna = False)"
   ]
  },
  {
   "cell_type": "code",
   "execution_count": 11,
   "id": "d98c0fd3",
   "metadata": {},
   "outputs": [
    {
     "data": {
      "text/plain": [
       " 60Hz     491\n",
       " 144Hz    212\n",
       " 165Hz    101\n",
       " 120Hz     87\n",
       " 240Hz     28\n",
       " 360Hz      8\n",
       " 300Hz      5\n",
       "Name: Refresh rate, dtype: int64"
      ]
     },
     "execution_count": 11,
     "metadata": {},
     "output_type": "execute_result"
    }
   ],
   "source": [
    "# All modern laptops have at least 60Hz refresh rate - let's replace all the inappropriate values with the most common   \n",
    "df1['Refresh rate'] = df1['Refresh rate'].apply(lambda x: \" 60Hz\" if x[-1] != \"z\" else x)\n",
    "df1['Refresh rate'].value_counts()"
   ]
  },
  {
   "cell_type": "code",
   "execution_count": 38,
   "id": "18b76cb7",
   "metadata": {},
   "outputs": [
    {
     "data": {
      "image/png": "[encoded data removed]",
      "text/plain": [
       "<Figure size 720x720 with 1 Axes>"
      ]
     },
     "metadata": {
      "needs_background": "light"
     },
     "output_type": "display_data"
    }
   ],
   "source": [
    "# Plotting the relationship between the price and the resolution of a screen in a laptop\n",
    "plt.scatter(df1[\"Resolution\"], df1[\"Price in zl\"], label = \"Resolution\", color=\"green\")\n",
    "plt.legend()\n",
    "plt.show()"
   ]
  },
  {
   "cell_type": "code",
   "execution_count": 12,
   "id": "18a8f338",
   "metadata": {},
   "outputs": [],
   "source": [
    "df2 = df1.copy()"
   ]
  },
  {
   "cell_type": "code",
   "execution_count": 13,
   "id": "c2fdd92a",
   "metadata": {},
   "outputs": [
    {
     "data": {
      "text/plain": [
       "Intel Core i7-12700H     92\n",
       "AMD Ryzen 5 5600H        67\n",
       "Intel Core i5-1135G7     62\n",
       "Intel Core i7-11800H     61\n",
       "AMD Ryzen 7 5800H        50\n",
       "                         ..\n",
       "Intel Core i7-8550U       1\n",
       "AMD Ryzen 7 4800HS        1\n",
       "Intel Core i5-1038NG7     1\n",
       "Intel Core i7-8565U       1\n",
       "Intel Core i7-11390H      1\n",
       "Name: Processor, Length: 113, dtype: int64"
      ]
     },
     "execution_count": 13,
     "metadata": {},
     "output_type": "execute_result"
    }
   ],
   "source": [
    "# Searching for non-matching values\n",
    "df2.Processor.value_counts(dropna = False)"
   ]
  },
  {
   "cell_type": "code",
   "execution_count": 32,
   "id": "48d08c78",
   "metadata": {},
   "outputs": [
    {
     "data": {
      "image/png": "[encoded data removed]",
      "text/plain": [
       "<Figure size 720x720 with 1 Axes>"
      ]
     },
     "metadata": {
      "needs_background": "light"
     },
     "output_type": "display_data"
    }
   ],
   "source": [
    "# Plotting a histogram of \"Processor\" column\n",
    "plt.hist(df2.Processor, orientation='horizontal', color = \"red\")\n",
    "plt.xlabel(\"Number of laptops\")\n",
    "plt.ylabel(\"Processor\")\n",
    "plt.show()"
   ]
  },
  {
   "cell_type": "code",
   "execution_count": 15,
   "id": "e876eee9",
   "metadata": {},
   "outputs": [],
   "source": [
    "# List of the most popular processors\n",
    "processors = [\"Intel Core i3\", \"Intel Core i7\", \"Intel Core i5\", \"Intel Core i9\", \"AMD Ryzen 3\", \"AMD Ryzen 7\", \n",
    "              \"AMD Ryzen 5\",\"AMD Ryzen 9\",\"Apple M1\", \"Apple M2\", \"Intel Celeron\"]"
   ]
  },
  {
   "cell_type": "code",
   "execution_count": 16,
   "id": "dda4a400",
   "metadata": {},
   "outputs": [],
   "source": [
    "# Simplification of the \"Processor\" column \n",
    "for i in df2.Processor:\n",
    "     for p in processors:\n",
    "        if p in i:\n",
    "            df2.Processor = df2.Processor.replace([i], p)\n"
   ]
  },
  {
   "cell_type": "code",
   "execution_count": 17,
   "id": "ddea3064",
   "metadata": {},
   "outputs": [
    {
     "data": {
      "text/plain": [
       "Intel Core i5                 257\n",
       "Intel Core i7                 238\n",
       "AMD Ryzen 5                   138\n",
       "AMD Ryzen 7                   109\n",
       "Intel Celeron                  34\n",
       "Intel Core i3                  32\n",
       "Apple M1                       26\n",
       "Apple M2                       26\n",
       "AMD Ryzen 3                    16\n",
       "Intel Core i9                  13\n",
       "AMD Ryzen 9                     8\n",
       "MediaTek MT8183                 6\n",
       "AMD Ryzen 9 5900HX              5\n",
       "AMD Athlon Silver 3050U         4\n",
       "Intel Pentium Silver N6000      3\n",
       "16                              2\n",
       "AMD A4-9120e                    2\n",
       "32                              2\n",
       "Intel Pentium N5000             2\n",
       "Qualcomm Snapdragon SC7180      1\n",
       "AMD Athlon Silver 3050C         1\n",
       "AMD Athlon 300U                 1\n",
       "Intel Pentium Gold 5405U        1\n",
       "AMD 3020e                       1\n",
       "Intel Pentium N4200             1\n",
       "AMD A6-9220e                    1\n",
       "Intel Pentium Silver N5030      1\n",
       "Intel Pentium Gold 7505         1\n",
       "Name: Processor, dtype: int64"
      ]
     },
     "execution_count": 17,
     "metadata": {},
     "output_type": "execute_result"
    }
   ],
   "source": [
    "df2.Processor.value_counts()"
   ]
  },
  {
   "cell_type": "code",
   "execution_count": 18,
   "id": "a3d530f2",
   "metadata": {},
   "outputs": [
    {
     "data": {
      "text/html": [
       "<div>\n",
       "<style scoped>\n",
       "    .dataframe tbody tr th:only-of-type {\n",
       "        vertical-align: middle;\n",
       "    }\n",
       "\n",
       "    .dataframe tbody tr th {\n",
       "        vertical-align: top;\n",
       "    }\n",
       "\n",
       "    .dataframe thead th {\n",
       "        text-align: right;\n",
       "    }\n",
       "</style>\n",
       "<table border=\"1\" class=\"dataframe\">\n",
       "  <thead>\n",
       "    <tr style=\"text-align: right;\">\n",
       "      <th></th>\n",
       "      <th>Size</th>\n",
       "      <th>Resolution</th>\n",
       "      <th>Refresh rate</th>\n",
       "      <th>Processor</th>\n",
       "      <th>RAM</th>\n",
       "      <th>Disc</th>\n",
       "      <th>Graphics card</th>\n",
       "      <th>Price in zl</th>\n",
       "    </tr>\n",
       "  </thead>\n",
       "  <tbody>\n",
       "    <tr>\n",
       "      <th>0</th>\n",
       "      <td>15.6</td>\n",
       "      <td>1920 x 1080px</td>\n",
       "      <td>120Hz</td>\n",
       "      <td>Intel Core i7</td>\n",
       "      <td>8</td>\n",
       "      <td>512 GB SSD</td>\n",
       "      <td>NVIDIA GeForce GTX 1650</td>\n",
       "      <td>3599</td>\n",
       "    </tr>\n",
       "    <tr>\n",
       "      <th>1</th>\n",
       "      <td>16.1</td>\n",
       "      <td>1920 x 1080px</td>\n",
       "      <td>60Hz</td>\n",
       "      <td>AMD Ryzen 5</td>\n",
       "      <td>8</td>\n",
       "      <td>512 GB SSD</td>\n",
       "      <td>NVIDIA GeForce GTX 1650</td>\n",
       "      <td>3799</td>\n",
       "    </tr>\n",
       "    <tr>\n",
       "      <th>3</th>\n",
       "      <td>15.6</td>\n",
       "      <td>1920 x 1080px</td>\n",
       "      <td>144Hz</td>\n",
       "      <td>AMD Ryzen 7</td>\n",
       "      <td>16</td>\n",
       "      <td>512 GB SSD</td>\n",
       "      <td>NVIDIA GeForce RTX 3050 Ti</td>\n",
       "      <td>6199</td>\n",
       "    </tr>\n",
       "    <tr>\n",
       "      <th>4</th>\n",
       "      <td>16.1</td>\n",
       "      <td>1920 x 1080px</td>\n",
       "      <td>144Hz</td>\n",
       "      <td>Intel Core i7</td>\n",
       "      <td>8</td>\n",
       "      <td>512 GB SSD</td>\n",
       "      <td>NVIDIA GeForce RTX 3060</td>\n",
       "      <td>5999</td>\n",
       "    </tr>\n",
       "    <tr>\n",
       "      <th>5</th>\n",
       "      <td>16.1</td>\n",
       "      <td>1920 x 1080px</td>\n",
       "      <td>144Hz</td>\n",
       "      <td>Intel Core i5</td>\n",
       "      <td>8</td>\n",
       "      <td>512 GB SSD</td>\n",
       "      <td>NVIDIA GeForce RTX 3050 Ti</td>\n",
       "      <td>5199</td>\n",
       "    </tr>\n",
       "    <tr>\n",
       "      <th>...</th>\n",
       "      <td>...</td>\n",
       "      <td>...</td>\n",
       "      <td>...</td>\n",
       "      <td>...</td>\n",
       "      <td>...</td>\n",
       "      <td>...</td>\n",
       "      <td>...</td>\n",
       "      <td>...</td>\n",
       "    </tr>\n",
       "    <tr>\n",
       "      <th>995</th>\n",
       "      <td>15.6</td>\n",
       "      <td>1920 x 1080px</td>\n",
       "      <td>60Hz</td>\n",
       "      <td>AMD Ryzen 7</td>\n",
       "      <td>16</td>\n",
       "      <td>512 GB SSD</td>\n",
       "      <td>NVIDIA GeForce RTX 3050</td>\n",
       "      <td>4699</td>\n",
       "    </tr>\n",
       "    <tr>\n",
       "      <th>996</th>\n",
       "      <td>15.6</td>\n",
       "      <td>1920 x 1080px</td>\n",
       "      <td>60Hz</td>\n",
       "      <td>AMD Ryzen 3</td>\n",
       "      <td>4</td>\n",
       "      <td>256 GB SSD</td>\n",
       "      <td>AMD Radeon Graphics</td>\n",
       "      <td>1599</td>\n",
       "    </tr>\n",
       "    <tr>\n",
       "      <th>997</th>\n",
       "      <td>15.6</td>\n",
       "      <td>1920 x 1080px</td>\n",
       "      <td>60Hz</td>\n",
       "      <td>Intel Core i5</td>\n",
       "      <td>16</td>\n",
       "      <td>512 GB SSD</td>\n",
       "      <td>Intel Iris Xe Graphics</td>\n",
       "      <td>3699</td>\n",
       "    </tr>\n",
       "    <tr>\n",
       "      <th>998</th>\n",
       "      <td>14.0</td>\n",
       "      <td>1920 x 1080px</td>\n",
       "      <td>60Hz</td>\n",
       "      <td>Intel Core i5</td>\n",
       "      <td>16</td>\n",
       "      <td>512 GB SSD</td>\n",
       "      <td>Intel Iris Xe Graphics</td>\n",
       "      <td>4199</td>\n",
       "    </tr>\n",
       "    <tr>\n",
       "      <th>999</th>\n",
       "      <td>15.6</td>\n",
       "      <td>1920 x 1080px</td>\n",
       "      <td>60Hz</td>\n",
       "      <td>AMD Ryzen 5</td>\n",
       "      <td>8</td>\n",
       "      <td>512 GB SSD</td>\n",
       "      <td>AMD Radeon Graphics</td>\n",
       "      <td>2899</td>\n",
       "    </tr>\n",
       "  </tbody>\n",
       "</table>\n",
       "<p>897 rows × 8 columns</p>\n",
       "</div>"
      ],
      "text/plain": [
       "     Size      Resolution Refresh rate      Processor RAM        Disc  \\\n",
       "0    15.6   1920 x 1080px        120Hz  Intel Core i7   8  512 GB SSD   \n",
       "1    16.1   1920 x 1080px         60Hz    AMD Ryzen 5   8  512 GB SSD   \n",
       "3    15.6   1920 x 1080px        144Hz    AMD Ryzen 7  16  512 GB SSD   \n",
       "4    16.1   1920 x 1080px        144Hz  Intel Core i7   8  512 GB SSD   \n",
       "5    16.1   1920 x 1080px        144Hz  Intel Core i5   8  512 GB SSD   \n",
       "..    ...             ...          ...            ...  ..         ...   \n",
       "995  15.6   1920 x 1080px         60Hz    AMD Ryzen 7  16  512 GB SSD   \n",
       "996  15.6   1920 x 1080px         60Hz    AMD Ryzen 3   4  256 GB SSD   \n",
       "997  15.6   1920 x 1080px         60Hz  Intel Core i5  16  512 GB SSD   \n",
       "998  14.0   1920 x 1080px         60Hz  Intel Core i5  16  512 GB SSD   \n",
       "999  15.6   1920 x 1080px         60Hz    AMD Ryzen 5   8  512 GB SSD   \n",
       "\n",
       "                  Graphics card  Price in zl  \n",
       "0       NVIDIA GeForce GTX 1650         3599  \n",
       "1       NVIDIA GeForce GTX 1650         3799  \n",
       "3    NVIDIA GeForce RTX 3050 Ti         6199  \n",
       "4       NVIDIA GeForce RTX 3060         5999  \n",
       "5    NVIDIA GeForce RTX 3050 Ti         5199  \n",
       "..                          ...          ...  \n",
       "995     NVIDIA GeForce RTX 3050         4699  \n",
       "996         AMD Radeon Graphics         1599  \n",
       "997      Intel Iris Xe Graphics         3699  \n",
       "998      Intel Iris Xe Graphics         4199  \n",
       "999         AMD Radeon Graphics         2899  \n",
       "\n",
       "[897 rows x 8 columns]"
      ]
     },
     "execution_count": 18,
     "metadata": {},
     "output_type": "execute_result"
    }
   ],
   "source": [
    "# Deleting rows without the most common processors\n",
    "df3 = df2.drop(index = df2[~df2.Processor.isin(processors)].index)\n",
    "df3"
   ]
  },
  {
   "cell_type": "code",
   "execution_count": 43,
   "id": "535b5b09",
   "metadata": {},
   "outputs": [
    {
     "data": {
      "image/png": "[encoded data removed]",
      "text/plain": [
       "<Figure size 1080x720 with 1 Axes>"
      ]
     },
     "metadata": {
      "needs_background": "light"
     },
     "output_type": "display_data"
    }
   ],
   "source": [
    "# Plotting the relationship between the price and the processor of a laptop\n",
    "plt.rcParams[\"figure.figsize\"] = (15,10)\n",
    "plt.scatter(df3[\"Processor\"], df3[\"Price in zl\"], label = \"Processor\", color=\"red\")\n",
    "plt.legend()\n",
    "plt.show()"
   ]
  },
  {
   "cell_type": "code",
   "execution_count": 19,
   "id": "92cb9463",
   "metadata": {},
   "outputs": [
    {
     "data": {
      "text/plain": [
       "16    478\n",
       "8     324\n",
       "32     52\n",
       "4      43\n",
       "Name: RAM, dtype: int64"
      ]
     },
     "execution_count": 19,
     "metadata": {},
     "output_type": "execute_result"
    }
   ],
   "source": [
    "# Searching for non-matching values\n",
    "df3.RAM.value_counts(dropna = False)"
   ]
  },
  {
   "cell_type": "code",
   "execution_count": 44,
   "id": "01de9ee4",
   "metadata": {},
   "outputs": [
    {
     "data": {
      "image/png": "[encoded data removed]",
      "text/plain": [
       "<Figure size 720x720 with 1 Axes>"
      ]
     },
     "metadata": {
      "needs_background": "light"
     },
     "output_type": "display_data"
    }
   ],
   "source": [
    "# Plotting the relationship between the price and the RAM of a laptop\n",
    "plt.rcParams[\"figure.figsize\"] = (10,10)\n",
    "plt.scatter(df3[\"RAM\"], df3[\"Price in zl\"], label = \"RAM\", color=\"yellow\")\n",
    "plt.legend()\n",
    "plt.show()"
   ]
  },
  {
   "cell_type": "code",
   "execution_count": 20,
   "id": "bc09d5b4",
   "metadata": {},
   "outputs": [
    {
     "data": {
      "text/plain": [
       "512 GB SSD                   519\n",
       "1000 GB SSD                  217\n",
       "256 GB SSD                   107\n",
       "128 GB SSD                    15\n",
       "128 GB Flash                  12\n",
       "2000 GB SSD                    9\n",
       "500 GB SSD                     7\n",
       "64 GB Flash                    4\n",
       "1000 (x2) GB SSD               3\n",
       "32 GB Flash                    2\n",
       "2000 GB HDD + 1000 GB SSD      1\n",
       "64 GB SSD                      1\n",
       "Name: Disc, dtype: int64"
      ]
     },
     "execution_count": 20,
     "metadata": {},
     "output_type": "execute_result"
    }
   ],
   "source": [
    "# Searching for non-matching values\n",
    "df3.Disc.value_counts(dropna = False)"
   ]
  },
  {
   "cell_type": "code",
   "execution_count": 21,
   "id": "7e2cd6ac",
   "metadata": {},
   "outputs": [],
   "source": [
    "# Deleting rows without the most common discs\n",
    "counts2 = df3.Disc.value_counts()\n",
    "discs = df3[df3.Disc.isin(counts2[counts2 < 7].index)]\n",
    "df3 = df3.drop(index = discs.index)"
   ]
  },
  {
   "cell_type": "code",
   "execution_count": 45,
   "id": "7e86a123",
   "metadata": {},
   "outputs": [
    {
     "data": {
      "image/png": "[encoded data removed]",
      "text/plain": [
       "<Figure size 720x720 with 1 Axes>"
      ]
     },
     "metadata": {
      "needs_background": "light"
     },
     "output_type": "display_data"
    }
   ],
   "source": [
    "# Plotting the relationship between the price and the disc of a laptop\n",
    "plt.scatter(df3[\"Disc\"], df3[\"Price in zl\"], label = \"Disc\", color=\"orange\")\n",
    "plt.legend()\n",
    "plt.show()"
   ]
  },
  {
   "cell_type": "code",
   "execution_count": 22,
   "id": "648319cf",
   "metadata": {},
   "outputs": [
    {
     "data": {
      "text/plain": [
       "Intel Iris Xe Graphics                 137\n",
       "NVIDIA GeForce RTX 3050                114\n",
       "AMD Radeon Graphics                     87\n",
       "NVIDIA GeForce RTX 3050 Ti              87\n",
       "NVIDIA GeForce RTX 3060                 86\n",
       "Intel UHD Graphics                      60\n",
       "NVIDIA GeForce GTX 1650                 58\n",
       "NVIDIA GeForce RTX 3070                 41\n",
       "NVIDIA GeForce RTX 3070 Ti              38\n",
       "Apple M2 (10 rdzeni)                    18\n",
       "Intel UHD Graphics 600                  17\n",
       "NVIDIA GeForce RTX 3080                 17\n",
       "NVIDIA GeForce GTX 1650 Ti              12\n",
       "Apple M1 (7 rdzeni)                      9\n",
       "Intel UHD Graphics 620                   9\n",
       "Apple M2 (8 rdzeni)                      8\n",
       "NVIDIA GeForce RTX 3080 Ti               8\n",
       "Apple M1 Pro (16 rdzeni)                 8\n",
       "AMD Radeon Vega 8                        7\n",
       "Apple M1 (8 rdzeni)                      7\n",
       "Intel Iris Plus Graphics                 6\n",
       "NVIDIA GeForce MX450                     6\n",
       "NVIDIA GeForce MX350                     4\n",
       "NVIDIA GeForce RTX 3060 Max-Q            4\n",
       "NVIDIA GeForce GTX 1650 Ti Max-Q         3\n",
       "NVIDIA GeForce RTX 2060                  3\n",
       "NVIDIA GeForce GTX 1660 Ti               3\n",
       "NVIDIA GeForce GTX 1660 Ti Max-Q         3\n",
       "AMD Radeon RX 6600M                      3\n",
       "AMD Radeon RX 6700S                      2\n",
       "NVIDIA GeForce GTX 1650 Max-Q            2\n",
       "Apple M1 Max (32 rdzenie)                2\n",
       "AMD Radeon RX Vega 3                     2\n",
       "NVIDIA GeForce MX330                     2\n",
       "NVIDIA GeForce RTX 2070                  2\n",
       "NVIDIA GeForce RTX 2080 Max-Q            1\n",
       "NVIDIA GeForce RTX 2070 Max-Q            1\n",
       "AMD Radeon RX 6800M                      1\n",
       "NVIDIA GeForce RTX 2080 Super Max-Q      1\n",
       "Intel HD Graphics 500                    1\n",
       "NVIDIA RTX A3000                         1\n",
       "AMD Radeon RX 6700M                      1\n",
       "Intel HD Graphics                        1\n",
       "NVIDIA GeForce RTX 3070 Max-Q            1\n",
       "NVIDIA GeForce RTX 2080 Super            1\n",
       "NVIDIA GeForce MX150                     1\n",
       "Name: Graphics card, dtype: int64"
      ]
     },
     "execution_count": 22,
     "metadata": {},
     "output_type": "execute_result"
    }
   ],
   "source": [
    "# Searching for non-matching values\n",
    "df3[\"Graphics card\"].value_counts(dropna = False)"
   ]
  },
  {
   "cell_type": "code",
   "execution_count": 23,
   "id": "c972cfb3",
   "metadata": {},
   "outputs": [],
   "source": [
    "# Deleting rows without the most common cards\n",
    "counts3 = df3[\"Graphics card\"].value_counts()\n",
    "cards = df3[df3[\"Graphics card\"].isin(counts3[counts3 < 7].index)]\n",
    "df4 = df3.drop(index = cards.index)"
   ]
  },
  {
   "cell_type": "code",
   "execution_count": 57,
   "id": "c55a47f7",
   "metadata": {},
   "outputs": [
    {
     "data": {
      "image/png": "[encoded data removed]",
      "text/plain": [
       "<Figure size 3960x2520 with 1 Axes>"
      ]
     },
     "metadata": {
      "needs_background": "light"
     },
     "output_type": "display_data"
    }
   ],
   "source": [
    "# Plotting the relationship between the price and the graphics card of a laptop\n",
    "plt.rcParams[\"figure.figsize\"] = (55,35)\n",
    "plt.scatter(df4[\"Graphics card\"], df4[\"Price in zl\"], label = \"Graphics card\", color=\"violet\")\n",
    "plt.legend()\n",
    "plt.show()"
   ]
  },
  {
   "cell_type": "code",
   "execution_count": 58,
   "id": "3063ba2e",
   "metadata": {},
   "outputs": [],
   "source": [
    "# Converting the prices to integer\n",
    "df4[\"Price in zl\"] = df4[\"Price in zl\"].apply(lambda x: int(x))"
   ]
  },
  {
   "cell_type": "code",
   "execution_count": 59,
   "id": "88f061cf",
   "metadata": {},
   "outputs": [],
   "source": [
    "# Preprocessing the columns\n",
    "numeric_features = [\"Size\"]\n",
    "numeric_transformer = Pipeline(steps = [(\"scaler\", MinMaxScaler())])\n",
    "\n",
    "categorical_features = [\"Resolution\", \"Refresh rate\", \"Processor\", \"RAM\", \"Disc\", \"Graphics card\"]\n",
    "categorical_transformer = OneHotEncoder()\n",
    "\n",
    "preprocessor = ColumnTransformer(\n",
    "    transformers = [\n",
    "        (\"num\", numeric_transformer, numeric_features),\n",
    "        (\"cat\", categorical_transformer, categorical_features)\n",
    "    ]\n",
    ")"
   ]
  },
  {
   "cell_type": "code",
   "execution_count": 60,
   "id": "ca17bdb1",
   "metadata": {},
   "outputs": [],
   "source": [
    "# Splitting the dataset\n",
    "X = df4.drop(\"Price in zl\", axis = 1)\n",
    "y = df4[\"Price in zl\"]"
   ]
  },
  {
   "cell_type": "code",
   "execution_count": 61,
   "id": "648ba239",
   "metadata": {},
   "outputs": [
    {
     "name": "stdout",
     "output_type": "stream",
     "text": [
      "model score: 0.873\n"
     ]
    }
   ],
   "source": [
    "# Making the pipeline for LinearRegression\n",
    "clf = Pipeline(\n",
    "    steps=[(\"preprocessor\", preprocessor), (\"classifier\", LinearRegression())]\n",
    ")\n",
    "\n",
    "X_train, X_test, y_train, y_test = train_test_split(X, y, test_size=0.2, random_state=0)\n",
    "\n",
    "clf.fit(X_train, y_train)\n",
    "\n",
    "print(\"model score: %.3f\" % clf.score(X_test, y_test))"
   ]
  },
  {
   "cell_type": "code",
   "execution_count": 77,
   "id": "b8420d81",
   "metadata": {},
   "outputs": [
    {
     "data": {
      "text/html": [
       "<div>\n",
       "<style scoped>\n",
       "    .dataframe tbody tr th:only-of-type {\n",
       "        vertical-align: middle;\n",
       "    }\n",
       "\n",
       "    .dataframe tbody tr th {\n",
       "        vertical-align: top;\n",
       "    }\n",
       "\n",
       "    .dataframe thead th {\n",
       "        text-align: right;\n",
       "    }\n",
       "</style>\n",
       "<table border=\"1\" class=\"dataframe\">\n",
       "  <thead>\n",
       "    <tr style=\"text-align: right;\">\n",
       "      <th></th>\n",
       "      <th>Size</th>\n",
       "      <th>Resolution</th>\n",
       "      <th>Refresh rate</th>\n",
       "      <th>Processor</th>\n",
       "      <th>RAM</th>\n",
       "      <th>Disc</th>\n",
       "      <th>Graphics card</th>\n",
       "      <th>Price in zl</th>\n",
       "    </tr>\n",
       "  </thead>\n",
       "  <tbody>\n",
       "    <tr>\n",
       "      <th>151</th>\n",
       "      <td>15.6</td>\n",
       "      <td>1920 x 1080px</td>\n",
       "      <td>60Hz</td>\n",
       "      <td>Intel Core i7</td>\n",
       "      <td>8</td>\n",
       "      <td>512 GB SSD</td>\n",
       "      <td>NVIDIA GeForce GTX 1650 Ti</td>\n",
       "      <td>5399</td>\n",
       "    </tr>\n",
       "    <tr>\n",
       "      <th>152</th>\n",
       "      <td>13.6</td>\n",
       "      <td>2560 x 1664px</td>\n",
       "      <td>60Hz</td>\n",
       "      <td>Apple M2</td>\n",
       "      <td>8</td>\n",
       "      <td>256 GB SSD</td>\n",
       "      <td>Apple M2 (8 rdzeni)</td>\n",
       "      <td>6499</td>\n",
       "    </tr>\n",
       "    <tr>\n",
       "      <th>153</th>\n",
       "      <td>15.6</td>\n",
       "      <td>1920 x 1080px</td>\n",
       "      <td>60Hz</td>\n",
       "      <td>Intel Core i3</td>\n",
       "      <td>4</td>\n",
       "      <td>256 GB SSD</td>\n",
       "      <td>Intel UHD Graphics</td>\n",
       "      <td>1999</td>\n",
       "    </tr>\n",
       "    <tr>\n",
       "      <th>154</th>\n",
       "      <td>15.6</td>\n",
       "      <td>1920 x 1080px</td>\n",
       "      <td>144Hz</td>\n",
       "      <td>AMD Ryzen 5</td>\n",
       "      <td>16</td>\n",
       "      <td>512 GB SSD</td>\n",
       "      <td>NVIDIA GeForce GTX 1650</td>\n",
       "      <td>3699</td>\n",
       "    </tr>\n",
       "    <tr>\n",
       "      <th>155</th>\n",
       "      <td>13.6</td>\n",
       "      <td>2560 x 1664px</td>\n",
       "      <td>60Hz</td>\n",
       "      <td>Apple M2</td>\n",
       "      <td>8</td>\n",
       "      <td>512 GB SSD</td>\n",
       "      <td>Apple M2 (10 rdzeni)</td>\n",
       "      <td>7999</td>\n",
       "    </tr>\n",
       "  </tbody>\n",
       "</table>\n",
       "</div>"
      ],
      "text/plain": [
       "     Size      Resolution Refresh rate      Processor RAM        Disc  \\\n",
       "151  15.6   1920 x 1080px         60Hz  Intel Core i7   8  512 GB SSD   \n",
       "152  13.6   2560 x 1664px         60Hz       Apple M2   8  256 GB SSD   \n",
       "153  15.6   1920 x 1080px         60Hz  Intel Core i3   4  256 GB SSD   \n",
       "154  15.6   1920 x 1080px        144Hz    AMD Ryzen 5  16  512 GB SSD   \n",
       "155  13.6   2560 x 1664px         60Hz       Apple M2   8  512 GB SSD   \n",
       "\n",
       "                  Graphics card  Price in zl  \n",
       "151  NVIDIA GeForce GTX 1650 Ti         5399  \n",
       "152         Apple M2 (8 rdzeni)         6499  \n",
       "153          Intel UHD Graphics         1999  \n",
       "154     NVIDIA GeForce GTX 1650         3699  \n",
       "155        Apple M2 (10 rdzeni)         7999  "
      ]
     },
     "execution_count": 77,
     "metadata": {},
     "output_type": "execute_result"
    }
   ],
   "source": [
    "# Making a prediction\n",
    "df4.loc[150:155]"
   ]
  },
  {
   "cell_type": "code",
   "execution_count": 80,
   "id": "1a512b48",
   "metadata": {},
   "outputs": [
    {
     "data": {
      "text/plain": [
       "array([5050.06529098, 6463.28574911, 1920.03384084, 4009.58960892,\n",
       "       8261.50010416])"
      ]
     },
     "execution_count": 80,
     "metadata": {},
     "output_type": "execute_result"
    }
   ],
   "source": [
    "clf.predict(X.loc[150:155])"
   ]
  },
  {
   "cell_type": "code",
   "execution_count": 81,
   "id": "6424aa12",
   "metadata": {},
   "outputs": [
    {
     "data": {
      "text/plain": [
       "151    5399\n",
       "152    6499\n",
       "153    1999\n",
       "154    3699\n",
       "155    7999\n",
       "Name: Price in zl, dtype: int64"
      ]
     },
     "execution_count": 81,
     "metadata": {},
     "output_type": "execute_result"
    }
   ],
   "source": [
    "# Let's compare the prediction with the actual prices\n",
    "y.loc[150:155]"
   ]
  },
  {
   "cell_type": "code",
   "execution_count": 171,
   "id": "d59eb53a",
   "metadata": {},
   "outputs": [
    {
     "name": "stdout",
     "output_type": "stream",
     "text": [
      "model score: 0.863\n"
     ]
    }
   ],
   "source": [
    "# Making the pipeline for RandomForestRegressor\n",
    "clf2 = Pipeline(\n",
    "    steps=[(\"preprocessor\", preprocessor), (\"classifier\", RandomForestRegressor())]\n",
    ")\n",
    "\n",
    "X_train, X_test, y_train, y_test = train_test_split(X, y, test_size=0.2, random_state=0)\n",
    "\n",
    "clf2.fit(X_train, y_train)\n",
    "\n",
    "print(\"model score: %.3f\" % clf2.score(X_test, y_test))"
   ]
  },
  {
   "cell_type": "code",
   "execution_count": 142,
   "id": "8b4d0d16",
   "metadata": {},
   "outputs": [
    {
     "data": {
      "text/plain": [
       "{'classifier__bootstrap': True,\n",
       " 'classifier__criterion': 'absolute_error',\n",
       " 'classifier__n_estimators': 100}"
      ]
     },
     "execution_count": 142,
     "metadata": {},
     "output_type": "execute_result"
    }
   ],
   "source": [
    "# Hyperparameter tuning\n",
    "param_grid = {\"classifier__n_estimators\": [100, 150, 200], \"classifier__criterion\": [\"squared_error\", \"absolute_error\"], \"classifier__bootstrap\": [True, False]}\n",
    "#print(clf2.get_params().keys())\n",
    "grid = GridSearchCV(clf2, param_grid, cv=5)\n",
    "grid.fit(X_train, y_train)\n",
    "grid.best_params_"
   ]
  },
  {
   "cell_type": "code",
   "execution_count": 172,
   "id": "f882ba07",
   "metadata": {},
   "outputs": [
    {
     "name": "stdout",
     "output_type": "stream",
     "text": [
      "model score: 0.866\n"
     ]
    }
   ],
   "source": [
    "# The final RandomForestRegressor pipeline\n",
    "clf3 = Pipeline(\n",
    "    steps=[(\"preprocessor\", preprocessor), (\"classifier\", RandomForestRegressor(bootstrap = True, \n",
    "                                                                                criterion = 'absolute_error',\n",
    "                                                                                n_estimators = 100))]\n",
    ")\n",
    "\n",
    "X_train, X_test, y_train, y_test = train_test_split(X, y, test_size=0.2, random_state=0)\n",
    "\n",
    "clf3.fit(X_train, y_train)\n",
    "\n",
    "print(\"model score: %.3f\" % clf3.score(X_test, y_test))"
   ]
  },
  {
   "cell_type": "code",
   "execution_count": 174,
   "id": "fac8c1ec",
   "metadata": {},
   "outputs": [],
   "source": [
    "# The linearRegression pipeline seems to be the fastest and most accurate estimator - let's export the model to a pickle file\n",
    "import pickle\n",
    "with open('Media_Expert.pickle','wb') as f:\n",
    "    pickle.dump(clf,f)"
   ]
  },
  {
   "cell_type": "code",
   "execution_count": null,
   "id": "e534a1a1",
   "metadata": {},
   "outputs": [],
   "source": []
  }
 ],
 "metadata": {
  "kernelspec": {
   "display_name": "Python 3 (ipykernel)",
   "language": "python",
   "name": "python3"
  },
  "language_info": {
   "codemirror_mode": {
    "name": "ipython",
    "version": 3
   },
   "file_extension": ".py",
   "mimetype": "text/x-python",
   "name": "python",
   "nbconvert_exporter": "python",
   "pygments_lexer": "ipython3",
   "version": "3.9.12"
  }
 },
 "nbformat": 4,
 "nbformat_minor": 5
}
